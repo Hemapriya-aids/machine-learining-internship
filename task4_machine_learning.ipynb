{
  "nbformat": 4,
  "nbformat_minor": 0,
  "metadata": {
    "colab": {
      "provenance": [],
      "authorship_tag": "ABX9TyP+xlthLPzv5LOzNjLDzpMM",
      "include_colab_link": true
    },
    "kernelspec": {
      "name": "python3",
      "display_name": "Python 3"
    },
    "language_info": {
      "name": "python"
    }
  },
  "cells": [
    {
      "cell_type": "markdown",
      "metadata": {
        "id": "view-in-github",
        "colab_type": "text"
      },
      "source": [
        "<a href=\"https://colab.research.google.com/github/Hemapriya-aids/machine-learining-internship/blob/main/task4_machine_learning.ipynb\" target=\"_parent\"><img src=\"https://colab.research.google.com/assets/colab-badge.svg\" alt=\"Open In Colab\"/></a>"
      ]
    },
    {
      "cell_type": "code",
      "source": [
        "# ===============================================================\n",
        "# CODTECH INTERNSHIP - TASK 4  (No Surprise Library)\n",
        "# Simple Collaborative Filtering using Pandas & Numpy\n",
        "# ===============================================================\n",
        "\n",
        "import pandas as pd\n",
        "import numpy as np\n",
        "\n",
        "# Step 1: Create dataset\n",
        "data = {\n",
        "    'user_id': [1,1,1,2,2,3,3,4,4,5],\n",
        "    'movie'  : ['Avengers','Iron Man','Thor',\n",
        "                'Iron Man','Captain America',\n",
        "                'Avengers','Thor',\n",
        "                'Iron Man','Captain America',\n",
        "                'Avengers'],\n",
        "    'rating' : [5,4,4,5,3,4,5,4,3,5]\n",
        "}\n",
        "df = pd.DataFrame(data)\n",
        "\n",
        "# Step 2: Build user-item matrix\n",
        "user_movie_matrix = df.pivot_table(index='user_id', columns='movie', values='rating')\n",
        "print(\"🎬 User-Movie Matrix:\\n\", user_movie_matrix)\n",
        "\n",
        "# Step 3: Compute movie-to-movie similarity (cosine)\n",
        "from numpy.linalg import norm\n",
        "\n",
        "def cosine_sim(a,b):\n",
        "    mask = ~np.isnan(a) & ~np.isnan(b)\n",
        "    if np.sum(mask)==0: return 0\n",
        "    a,b = a[mask], b[mask]\n",
        "    return np.dot(a,b) / (norm(a)*norm(b))\n",
        "\n",
        "movies = user_movie_matrix.columns\n",
        "similarity = pd.DataFrame(index=movies, columns=movies)\n",
        "\n",
        "for m1 in movies:\n",
        "    for m2 in movies:\n",
        "        similarity.loc[m1,m2] = cosine_sim(\n",
        "            user_movie_matrix[m1].values,\n",
        "            user_movie_matrix[m2].values\n",
        "        )\n",
        "\n",
        "print(\"\\n🎞️ Movie Similarity Matrix:\\n\", similarity)\n",
        "\n",
        "# Step 4: Simple recommendation function\n",
        "def recommend_movies(user_id, top_n=3):\n",
        "    user_ratings = user_movie_matrix.loc[user_id]\n",
        "    unseen = user_ratings[user_ratings.isna()].index\n",
        "    scores = {}\n",
        "    for movie in unseen:\n",
        "        sim_scores = []\n",
        "        for rated_movie, rating in user_ratings.dropna().items():\n",
        "            sim = float(similarity.loc[movie, rated_movie])\n",
        "            sim_scores.append(sim * rating)\n",
        "        if sim_scores:\n",
        "            scores[movie] = np.sum(sim_scores) / np.sum(np.abs([float(similarity.loc[movie, r]) for r in user_ratings.dropna().index]))\n",
        "    ranked = sorted(scores.items(), key=lambda x:x[1], reverse=True)\n",
        "    return ranked[:top_n]\n",
        "\n",
        "# Step 5: Show recommendations\n",
        "user_id = 2\n",
        "print(f\"\\n⭐ Recommendations for User {user_id}:\")\n",
        "for movie, score in recommend_movies(user_id):\n",
        "    print(f\"{movie}  (Predicted score: {score:.2f})\")\n"
      ],
      "metadata": {
        "colab": {
          "base_uri": "https://localhost:8080/"
        },
        "id": "bzOH8KXJ0LdV",
        "outputId": "b1dc48a7-8139-4b62-b286-965ea73cea6b"
      },
      "execution_count": 12,
      "outputs": [
        {
          "output_type": "stream",
          "name": "stdout",
          "text": [
            "🎬 User-Movie Matrix:\n",
            " movie    Avengers  Captain America  Iron Man  Thor\n",
            "user_id                                           \n",
            "1             5.0              NaN       4.0   4.0\n",
            "2             NaN              3.0       5.0   NaN\n",
            "3             4.0              NaN       NaN   5.0\n",
            "4             NaN              3.0       4.0   NaN\n",
            "5             5.0              NaN       NaN   NaN\n",
            "\n",
            "🎞️ Movie Similarity Matrix:\n",
            " movie           Avengers Captain America  Iron Man     Thor\n",
            "movie                                                      \n",
            "Avengers             1.0               0       1.0  0.97561\n",
            "Captain America        0             1.0  0.993884        0\n",
            "Iron Man             1.0        0.993884       1.0      1.0\n",
            "Thor             0.97561               0       1.0      1.0\n",
            "\n",
            "⭐ Recommendations for User 2:\n",
            "Avengers  (Predicted score: 5.00)\n",
            "Thor  (Predicted score: 5.00)\n"
          ]
        }
      ]
    }
  ]
}